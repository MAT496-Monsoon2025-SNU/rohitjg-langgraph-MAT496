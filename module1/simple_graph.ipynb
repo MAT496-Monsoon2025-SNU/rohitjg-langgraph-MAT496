{
 "cells": [
  {
   "cell_type": "code",
   "execution_count": 10,
   "metadata": {},
   "outputs": [],
   "source": [
    "!pip install --quiet -U langchain_openai langchain_core langchain_community tavily-python"
   ]
  },
  {
   "cell_type": "code",
   "execution_count": 11,
   "id": "f3192454",
   "metadata": {},
   "outputs": [],
   "source": [
    "from typing_extensions import TypedDict\n",
    "from typing import Optional\n",
    "\n",
    "class State(TypedDict):\n",
    "    graph_state: str\n",
    "    user_name: str\n",
    "    mood: Optional[str]\n",
    "    previous_graph_state: Optional[str]"
   ]
  },
  {
   "cell_type": "code",
   "execution_count": 12,
   "id": "a49f4ef0",
   "metadata": {},
   "outputs": [],
   "source": [
    "import difflib\n",
    "from datetime import datetime\n",
    "\n",
    "def _make_diff(prev: str, new: str) -> str:\n",
    "    prev_lines = (prev or \"\").splitlines()\n",
    "    new_lines = (new or \"\").splitlines()\n",
    "    return \"\\n\".join(difflib.unified_diff(prev_lines, new_lines, lineterm=\"\"))\n",
    "\n",
    "def node_1(state):\n",
    "    user = state.get(\"user_name\", \"User\")\n",
    "    prev = state.get(\"graph_state\", \"\")\n",
    "    print(f\"---Node 1 (for {user})---\")\n",
    "    new = prev + \" I am\"\n",
    "    diff = _make_diff(prev, new)\n",
    "    return {\"graph_state\": new, \"diff\": diff, \"last_updated\": datetime.utcnow().isoformat(), \"mood\": \"neutral\", \"previous_graph_state\": prev}\n",
    "\n",
    "def node_2(state):\n",
    "    user = state.get(\"user_name\", \"User\")\n",
    "    prev = state.get(\"graph_state\", \"\")\n",
    "    print(f\"---Node 2 (happy for {user})---\")\n",
    "    new = prev + \" happy!\"\n",
    "    diff = _make_diff(prev, new)\n",
    "    return {\"graph_state\": new, \"diff\": diff, \"last_updated\": datetime.utcnow().isoformat(), \"mood\": \"happy\", \"previous_graph_state\": prev}\n",
    "\n",
    "def node_3(state):\n",
    "    user = state.get(\"user_name\", \"User\")\n",
    "    prev = state.get(\"graph_state\", \"\")\n",
    "    print(f\"---Node 3 (sad for {user})---\")\n",
    "    new = prev + \" sad!\"\n",
    "    diff = _make_diff(prev, new)\n",
    "    return {\"graph_state\": new, \"diff\": diff, \"last_updated\": datetime.utcnow().isoformat(), \"mood\": \"sad\", \"previous_graph_state\": prev}"
   ]
  },
  {
   "cell_type": "code",
   "execution_count": 13,
   "id": "911f77bd",
   "metadata": {},
   "outputs": [],
   "source": [
    "import random\n",
    "from typing import Literal\n",
    "\n",
    "def decide_mood(state) -> Literal[\"node_2\", \"node_3\"]:\n",
    "    # Use the state's text to bias the mood decision\n",
    "    # get the graph_state as a lowercase string (default to empty)\n",
    "    user_input = str(state.get(\"graph_state\", \"\")).lower()\n",
    "    # check for keywords indicating a negative mood\n",
    "    if any(word in user_input for word in [\"sad\", \"unhappy\", \"down\", \"not good\"]):\n",
    "        return \"node_3\"\n",
    "    # Otherwise bias slightly toward happy to keep things positive\n",
    "    return \"node_2\" if random.random() < 0.6 else \"node_3\""
   ]
  },
  {
   "cell_type": "code",
   "execution_count": null,
   "id": "fa75ba6e",
   "metadata": {},
   "outputs": [],
   "source": [
    "def _merge_state(state, update):\n",
    "    s = dict(state) if state else {}\n",
    "    s.update(update or {})\n",
    "    return s\n",
    "\n",
    "class GraphRunner:\n",
    "    def invoke(self, initial_state, max_steps=3):\n",
    "        nodes = {'node_1': node_1, 'node_2': node_2, 'node_3': node_3}\n",
    "        state = dict(initial_state) if initial_state else {}\n",
    "        print('Starting graph run for', state.get('user_name', 'User'))\n",
    "        outputs = []\n",
    "        out = node_1(state)\n",
    "        outputs.append(out)\n",
    "        state = _merge_state(state, out)\n",
    "        for i in range(max_steps - 1):\n",
    "            choice = decide_mood(state)\n",
    "            print(f'Chosen next node: {choice}')\n",
    "            node_fn = nodes.get(choice)\n",
    "            if node_fn is None:\n",
    "                print('Unknown node', choice)\n",
    "                break\n",
    "            out = node_fn(state)\n",
    "            outputs.append(out)\n",
    "            state = _merge_state(state, out)\n",
    "        return outputs\n",
    "\n",
    "graph = GraphRunner()"
   ]
  },
  {
   "cell_type": "code",
   "execution_count": 15,
   "id": "6e7771a4",
   "metadata": {},
   "outputs": [
    {
     "name": "stdout",
     "output_type": "stream",
     "text": [
      "Starting graph run for Lance\n",
      "---Node 1 (for Lance)---\n",
      "Chosen next node: node_2\n",
      "---Node 2 (happy for Lance)---\n",
      "Chosen next node: node_3\n",
      "---Node 3 (sad for Lance)---\n"
     ]
    },
    {
     "name": "stderr",
     "output_type": "stream",
     "text": [
      "/var/folders/wt/cx3jfjrx09gbzv39_r264my80000gn/T/ipykernel_8915/3002866323.py:15: DeprecationWarning: datetime.datetime.utcnow() is deprecated and scheduled for removal in a future version. Use timezone-aware objects to represent datetimes in UTC: datetime.datetime.now(datetime.UTC).\n",
      "  return {\"graph_state\": new, \"diff\": diff, \"last_updated\": datetime.utcnow().isoformat(), \"mood\": \"neutral\", \"previous_graph_state\": prev}\n",
      "/var/folders/wt/cx3jfjrx09gbzv39_r264my80000gn/T/ipykernel_8915/3002866323.py:23: DeprecationWarning: datetime.datetime.utcnow() is deprecated and scheduled for removal in a future version. Use timezone-aware objects to represent datetimes in UTC: datetime.datetime.now(datetime.UTC).\n",
      "  return {\"graph_state\": new, \"diff\": diff, \"last_updated\": datetime.utcnow().isoformat(), \"mood\": \"happy\", \"previous_graph_state\": prev}\n",
      "/var/folders/wt/cx3jfjrx09gbzv39_r264my80000gn/T/ipykernel_8915/3002866323.py:31: DeprecationWarning: datetime.datetime.utcnow() is deprecated and scheduled for removal in a future version. Use timezone-aware objects to represent datetimes in UTC: datetime.datetime.now(datetime.UTC).\n",
      "  return {\"graph_state\": new, \"diff\": diff, \"last_updated\": datetime.utcnow().isoformat(), \"mood\": \"sad\", \"previous_graph_state\": prev}\n"
     ]
    },
    {
     "data": {
      "text/plain": [
       "[{'graph_state': 'Hi, this is Lance. I am',\n",
       "  'diff': '--- \\n+++ \\n@@ -1 +1 @@\\n-Hi, this is Lance.\\n+Hi, this is Lance. I am',\n",
       "  'last_updated': '2025-10-16T09:06:28.977271',\n",
       "  'mood': 'neutral',\n",
       "  'previous_graph_state': 'Hi, this is Lance.'},\n",
       " {'graph_state': 'Hi, this is Lance. I am happy!',\n",
       "  'diff': '--- \\n+++ \\n@@ -1 +1 @@\\n-Hi, this is Lance. I am\\n+Hi, this is Lance. I am happy!',\n",
       "  'last_updated': '2025-10-16T09:06:28.977320',\n",
       "  'mood': 'happy',\n",
       "  'previous_graph_state': 'Hi, this is Lance. I am'},\n",
       " {'graph_state': 'Hi, this is Lance. I am happy! sad!',\n",
       "  'diff': '--- \\n+++ \\n@@ -1 +1 @@\\n-Hi, this is Lance. I am happy!\\n+Hi, this is Lance. I am happy! sad!',\n",
       "  'last_updated': '2025-10-16T09:06:28.977348',\n",
       "  'mood': 'sad',\n",
       "  'previous_graph_state': 'Hi, this is Lance. I am happy!'}]"
      ]
     },
     "execution_count": 15,
     "metadata": {},
     "output_type": "execute_result"
    }
   ],
   "source": [
    "# invoke the graph with a personalized initial state\n",
    "graph.invoke({\"graph_state\" : \"Hi, this is Lance.\", \"user_name\": \"Lance\", \"previous_graph_state\": \"\"})\n"
   ]
  }
 ],
 "metadata": {
  "kernelspec": {
   "display_name": "mat",
   "language": "python",
   "name": "python3"
  },
  "language_info": {
   "codemirror_mode": {
    "name": "ipython",
    "version": 3
   },
   "file_extension": ".py",
   "mimetype": "text/x-python",
   "name": "python",
   "nbconvert_exporter": "python",
   "pygments_lexer": "ipython3",
   "version": "3.12.11"
  }
 },
 "nbformat": 4,
 "nbformat_minor": 5
}
